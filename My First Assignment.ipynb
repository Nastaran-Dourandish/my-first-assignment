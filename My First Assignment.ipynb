{
 "cells": [
  {
   "cell_type": "markdown",
   "id": "0f0d27b5",
   "metadata": {},
   "source": [
    "My First Assignment"
   ]
  },
  {
   "cell_type": "markdown",
   "id": "4ecf2db7",
   "metadata": {},
   "source": [
    "In this assignment the information of Data Sience will be summarized"
   ]
  },
  {
   "cell_type": "markdown",
   "id": "beb4ce63",
   "metadata": {},
   "source": [
    "Listing Data Science languages"
   ]
  },
  {
   "cell_type": "markdown",
   "id": "7cccc4ae",
   "metadata": {},
   "source": [
    "1. Python\n",
    "2. R \n",
    "3. Java\n",
    "4. Julia\n",
    "5. C++"
   ]
  },
  {
   "cell_type": "markdown",
   "id": "fff9e6dc",
   "metadata": {},
   "source": [
    "Listing Data Science libraries"
   ]
  },
  {
   "cell_type": "markdown",
   "id": "e5caed73",
   "metadata": {},
   "source": [
    "1. Numpy\n",
    "2. Matplotlib\n",
    "3. Scikit-learn\n",
    "4. TensorFlow\n",
    "5. PyTorch\n"
   ]
  },
  {
   "cell_type": "markdown",
   "id": "ba8e454c",
   "metadata": {},
   "source": [
    "Table of Data Science Tools"
   ]
  },
  {
   "cell_type": "markdown",
   "id": "609eaea3",
   "metadata": {},
   "source": [
    " | Data Science Tools |\n",
    " |--------------------|\n",
    " |   Watson Studio    |\n",
    " |   Apache Hadoop    |\n",
    " |   Apache Spark     |\n",
    " |      MATLAB        |"
   ]
  },
  {
   "cell_type": "markdown",
   "id": "4d0fe18e",
   "metadata": {},
   "source": [
    "Evaluating basic arithmetic expression"
   ]
  },
  {
   "cell_type": "code",
   "execution_count": 9,
   "id": "edbd39fa",
   "metadata": {},
   "outputs": [
    {
     "data": {
      "text/plain": [
       "26"
      ]
     },
     "execution_count": 9,
     "metadata": {},
     "output_type": "execute_result"
    }
   ],
   "source": [
    "(4*5)+6"
   ]
  },
  {
   "cell_type": "markdown",
   "id": "3c06e11e",
   "metadata": {},
   "source": [
    "Converting minutes to hours"
   ]
  },
  {
   "cell_type": "code",
   "execution_count": 15,
   "id": "b68446ea",
   "metadata": {},
   "outputs": [
    {
     "data": {
      "text/plain": [
       "2.0"
      ]
     },
     "execution_count": 15,
     "metadata": {},
     "output_type": "execute_result"
    }
   ],
   "source": [
    "120/60"
   ]
  },
  {
   "cell_type": "markdown",
   "id": "db4d6f06",
   "metadata": {},
   "source": [
    "This is for listing ocjectives"
   ]
  },
  {
   "cell_type": "markdown",
   "id": "d51066eb",
   "metadata": {},
   "source": [
    "Python\n",
    "R\n",
    "SQL\n",
    "RStudio\n",
    "Scikit-learn\n"
   ]
  },
  {
   "cell_type": "markdown",
   "id": "a8975f08",
   "metadata": {},
   "source": [
    "# Author\n",
    "Nastaran Dourandish"
   ]
  }
 ],
 "metadata": {
  "kernelspec": {
   "display_name": "Python 3 (ipykernel)",
   "language": "python",
   "name": "python3"
  },
  "language_info": {
   "codemirror_mode": {
    "name": "ipython",
    "version": 3
   },
   "file_extension": ".py",
   "mimetype": "text/x-python",
   "name": "python",
   "nbconvert_exporter": "python",
   "pygments_lexer": "ipython3",
   "version": "3.11.5"
  }
 },
 "nbformat": 4,
 "nbformat_minor": 5
}
